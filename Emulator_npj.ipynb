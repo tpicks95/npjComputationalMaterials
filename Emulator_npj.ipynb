{
 "cells": [
  {
   "cell_type": "markdown",
   "id": "20fd92bd-e153-4ab9-b082-bbfb47646091",
   "metadata": {},
   "source": [
    "# Benchmarking model-based design of experiment approaches with a pharmaceutical crystallisation emulator"
   ]
  },
  {
   "cell_type": "markdown",
   "id": "8cbbdab5-e7b5-4f3f-804a-dc8b529a4f12",
   "metadata": {},
   "source": [
    "**Installing the packages**"
   ]
  },
  {
   "cell_type": "code",
   "execution_count": null,
   "id": "1e5651b0-ba2e-4ed6-b211-57d6d7bb1df1",
   "metadata": {},
   "outputs": [],
   "source": [
    "from obsidian import Campaign, ParamSpace, Target\n",
    "from obsidian.parameters import Param_Categorical, Param_Ordinal, Param_Continuous, Param_Discrete\n",
    "import pandas as pd\n",
    "import io\n",
    "import numpy as np\n",
    "from sklearn.model_selection import train_test_split\n",
    "from sklearn.preprocessing import StandardScaler\n",
    "from sklearn.ensemble import RandomForestRegressor\n",
    "from sklearn.metrics import mean_squared_error, mean_absolute_error\n",
    "from joblib import load\n",
    "from joblib import dump"
   ]
  },
  {
   "cell_type": "markdown",
   "id": "41ec4fe4-3243-41b6-b26c-ee76cc8675e7",
   "metadata": {},
   "source": [
    "**Define parameters and targets for optimisation**"
   ]
  },
  {
   "cell_type": "code",
   "execution_count": null,
   "id": "5e3675f6-07f5-4527-8c4e-5518732b1aa5",
   "metadata": {},
   "outputs": [],
   "source": [
    "params = [\n",
    "    Param_Continuous('Initial_temperature', 34, 40),\n",
    "    Param_Continuous('Seed_load', 0, 2.625),\n",
    "    Param_Ordinal('Seed_mean', ['46.94', '55.94']),\n",
    "    Param_Continuous('Final_temperature', 10, 25),\n",
    "    Param_Continuous('Cooling_rate', 0.1, 0.5),\n",
    "    Param_Continuous('AS_end_frac', 0.45, 0.9),\n",
    "    Param_Continuous('AS_rate_mL_min', 3, 10)\n",
    "    ]\n",
    "\n",
    "param_column_names = [p.name for p in params]\n",
    "\n",
    "X_space = ParamSpace(params)\n",
    "\n",
    "target = [\n",
    "    Target('d90', aim='min'),\n",
    "    Target('Yield', aim='max'),\n",
    "]\n",
    "\n",
    "target_column_names = [t.name for t in target]\n",
    "\n",
    "campaign = Campaign(X_space, target)"
   ]
  },
  {
   "cell_type": "markdown",
   "id": "7e82eecd-33b8-4a15-9a9f-31ff3e1d8a97",
   "metadata": {},
   "source": [
    "**Loading the simulated data**"
   ]
  },
  {
   "cell_type": "code",
   "execution_count": null,
   "id": "7a0a53c2-ffc3-494b-84ee-862e58f21b84",
   "metadata": {},
   "outputs": [],
   "source": [
    "def load_data():\n",
    "    # Read the dataset from the Excel file\n",
    "    data = pd.read_excel(r\"file_location.xlsx\")\n",
    "    return data"
   ]
  },
  {
   "cell_type": "markdown",
   "id": "804fefe3-228d-49ff-a0bd-fdc25b26f52f",
   "metadata": {},
   "source": [
    "**Random forest model**\n",
    "\n",
    "This is specific to the optimisation problem and therefore needs to be run whenever inputs and outputs are changed."
   ]
  },
  {
   "cell_type": "code",
   "execution_count": null,
   "id": "30bee014-5ecd-41c0-9572-fc5b81db2778",
   "metadata": {},
   "outputs": [],
   "source": [
    "def preprocess_data(data):\n",
    "    input_features = param_column_names\n",
    "    output_features = target_column_names\n",
    "\n",
    "    X = data[input_features].values\n",
    "    y = data[output_features].values\n",
    "\n",
    "    X_train, X_test, y_train, y_test = train_test_split(X, y, test_size=0.2, random_state=42)\n",
    "\n",
    "    scaler = StandardScaler()\n",
    "    X_train = scaler.fit_transform(X_train)\n",
    "    X_test = scaler.transform(X_test)\n",
    "\n",
    "    return X_train, X_test, y_train, y_test, scaler\n",
    "\n",
    "def build_model():\n",
    "    model = RandomForestRegressor(n_estimators=100, random_state=42)\n",
    "    return model\n",
    "\n",
    "def main():\n",
    "    data = load_data()\n",
    "    X_train, X_test, y_train, y_test, scaler = preprocess_data(data)\n",
    "\n",
    "    model = build_model()\n",
    "    model.fit(X_train, y_train)\n",
    "\n",
    "    y_pred = model.predict(X_test)\n",
    "    mse = mean_squared_error(y_test, y_pred)\n",
    "    mae = mean_absolute_error(y_test, y_pred)\n",
    "    print(f\"Test MSE: {mse}, Test MAE: {mae}\")\n",
    "\n",
    "    return model, scaler\n",
    "\n",
    "if __name__ == \"__main__\":\n",
    "    model, scaler = main()\n",
    "    dump(model, 'model.joblib')\n",
    "    dump(scaler, 'scaler.joblib')"
   ]
  },
  {
   "cell_type": "markdown",
   "id": "b7c24859-893a-4b62-ae80-f1d4eb465553",
   "metadata": {},
   "source": [
    "**Calling the emulator**\n",
    "\n",
    "Tranform data to be used for the RF model and then predict values for your dataframe of experiments"
   ]
  },
  {
   "cell_type": "code",
   "execution_count": null,
   "id": "4ff043c3-f4c9-4db6-94b1-35e19d9adb4c",
   "metadata": {},
   "outputs": [],
   "source": [
    "new_X_scaled = scaler.transform(new_X)\n",
    "\n",
    "predictions = model.predict(new_X_scaled)"
   ]
  },
  {
   "cell_type": "code",
   "execution_count": null,
   "id": "28c7e4d4-f706-427a-87a6-4d7137fcbc24",
   "metadata": {},
   "outputs": [],
   "source": []
  }
 ],
 "metadata": {
  "kernelspec": {
   "display_name": "Python 3 (ipykernel)",
   "language": "python",
   "name": "python3"
  },
  "language_info": {
   "codemirror_mode": {
    "name": "ipython",
    "version": 3
   },
   "file_extension": ".py",
   "mimetype": "text/x-python",
   "name": "python",
   "nbconvert_exporter": "python",
   "pygments_lexer": "ipython3",
   "version": "3.12.7"
  }
 },
 "nbformat": 4,
 "nbformat_minor": 5
}
